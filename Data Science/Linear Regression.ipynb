{
 "cells": [
  {
   "cell_type": "markdown",
   "metadata": {},
   "source": [
    "# This notebook has codes to using Linear Regression from scikit learn.<br>This notebook was done for an assignment for a data science class."
   ]
  },
  {
   "cell_type": "markdown",
   "metadata": {},
   "source": [
    "\n",
    "# Part A\n",
    "\n"
   ]
  },
  {
   "cell_type": "code",
   "execution_count": 17,
   "metadata": {},
   "outputs": [],
   "source": [
    "\n",
    "import numpy as np\n",
    "\n",
    "import pandas as pd\n",
    "\n",
    "debt_pred_credit_df = pd.read_csv(\"https://github.com/mpourhoma/CS4661/raw/master/Credit.csv\")\n",
    "\n",
    "\n"
   ]
  },
  {
   "cell_type": "markdown",
   "metadata": {},
   "source": [
    "\n",
    "# Part B\n",
    "\n"
   ]
  },
  {
   "cell_type": "code",
   "execution_count": 18,
   "metadata": {},
   "outputs": [
    {
     "data": {
      "text/html": [
       "<div>\n",
       "<style scoped>\n",
       "    .dataframe tbody tr th:only-of-type {\n",
       "        vertical-align: middle;\n",
       "    }\n",
       "\n",
       "    .dataframe tbody tr th {\n",
       "        vertical-align: top;\n",
       "    }\n",
       "\n",
       "    .dataframe thead th {\n",
       "        text-align: right;\n",
       "    }\n",
       "</style>\n",
       "<table border=\"1\" class=\"dataframe\">\n",
       "  <thead>\n",
       "    <tr style=\"text-align: right;\">\n",
       "      <th></th>\n",
       "      <th>Income</th>\n",
       "      <th>Limit</th>\n",
       "      <th>Rating</th>\n",
       "      <th>Cards</th>\n",
       "      <th>Age</th>\n",
       "      <th>Education</th>\n",
       "      <th>Married</th>\n",
       "      <th>Balance</th>\n",
       "    </tr>\n",
       "  </thead>\n",
       "  <tbody>\n",
       "    <tr>\n",
       "      <th>0</th>\n",
       "      <td>14.891</td>\n",
       "      <td>3606</td>\n",
       "      <td>283</td>\n",
       "      <td>2</td>\n",
       "      <td>34</td>\n",
       "      <td>11</td>\n",
       "      <td>1</td>\n",
       "      <td>333</td>\n",
       "    </tr>\n",
       "    <tr>\n",
       "      <th>1</th>\n",
       "      <td>106.025</td>\n",
       "      <td>6645</td>\n",
       "      <td>483</td>\n",
       "      <td>3</td>\n",
       "      <td>82</td>\n",
       "      <td>15</td>\n",
       "      <td>1</td>\n",
       "      <td>903</td>\n",
       "    </tr>\n",
       "    <tr>\n",
       "      <th>2</th>\n",
       "      <td>104.593</td>\n",
       "      <td>7075</td>\n",
       "      <td>514</td>\n",
       "      <td>4</td>\n",
       "      <td>71</td>\n",
       "      <td>11</td>\n",
       "      <td>0</td>\n",
       "      <td>580</td>\n",
       "    </tr>\n",
       "    <tr>\n",
       "      <th>3</th>\n",
       "      <td>148.924</td>\n",
       "      <td>9504</td>\n",
       "      <td>681</td>\n",
       "      <td>3</td>\n",
       "      <td>36</td>\n",
       "      <td>11</td>\n",
       "      <td>0</td>\n",
       "      <td>964</td>\n",
       "    </tr>\n",
       "    <tr>\n",
       "      <th>4</th>\n",
       "      <td>55.882</td>\n",
       "      <td>4897</td>\n",
       "      <td>357</td>\n",
       "      <td>2</td>\n",
       "      <td>68</td>\n",
       "      <td>16</td>\n",
       "      <td>1</td>\n",
       "      <td>331</td>\n",
       "    </tr>\n",
       "  </tbody>\n",
       "</table>\n",
       "</div>"
      ],
      "text/plain": [
       "    Income  Limit  Rating  Cards  Age  Education  Married  Balance\n",
       "0   14.891   3606     283      2   34         11        1      333\n",
       "1  106.025   6645     483      3   82         15        1      903\n",
       "2  104.593   7075     514      4   71         11        0      580\n",
       "3  148.924   9504     681      3   36         11        0      964\n",
       "4   55.882   4897     357      2   68         16        1      331"
      ]
     },
     "execution_count": 18,
     "metadata": {},
     "output_type": "execute_result"
    }
   ],
   "source": [
    "\n",
    "debt_pred_credit_df.head()\n"
   ]
  },
  {
   "cell_type": "markdown",
   "metadata": {},
   "source": [
    "\n",
    "# Part C\n",
    "\n",
    "\n",
    "\n"
   ]
  },
  {
   "cell_type": "code",
   "execution_count": 19,
   "metadata": {},
   "outputs": [],
   "source": [
    "\n",
    "\n",
    "\n",
    "from sklearn import preprocessing\n",
    "\n",
    "debt_pred_list_of_feature_cols = list(debt_pred_credit_df.columns)\n",
    "\n",
    "debt_pred_list_of_feature_cols.remove('Balance')\n",
    "\n",
    "DPCFM = debt_pred_credit_df[debt_pred_list_of_feature_cols]\n",
    "\n",
    "Target_V = debt_pred_credit_df['Balance']\n",
    "\n",
    "DPFCM_scaled = preprocessing.scale(DPCFM)\n",
    "\n",
    "\n"
   ]
  },
  {
   "cell_type": "markdown",
   "metadata": {},
   "source": [
    "\n",
    "\n",
    "# Part D\n",
    "\n"
   ]
  },
  {
   "cell_type": "code",
   "execution_count": 20,
   "metadata": {},
   "outputs": [],
   "source": [
    "\n",
    "\n",
    "from sklearn.model_selection import train_test_split\n",
    "\n",
    "\n",
    "DPFCMS_training, DPFCMS_testing, Target_training, Target_testing = train_test_split(DPFCM_scaled, Target_V, test_size = 0.24, random_state = 9)\n",
    "\n",
    "\n"
   ]
  },
  {
   "cell_type": "markdown",
   "metadata": {},
   "source": [
    "\n",
    "# Part E\n",
    "\n"
   ]
  },
  {
   "cell_type": "code",
   "execution_count": 21,
   "metadata": {},
   "outputs": [
    {
     "name": "stdout",
     "output_type": "stream",
     "text": [
      "520.0391034603759\n",
      "[-264.69553256  360.5601294   252.73642988   24.91707959  -17.23897686\n",
      "   11.65810466   -9.82859046]\n",
      "Index(['Income', 'Limit', 'Rating', 'Cards', 'Age', 'Education', 'Married'], dtype='object')\n"
     ]
    }
   ],
   "source": [
    "\n",
    "from sklearn.linear_model import LinearRegression\n",
    "\n",
    "dp_linear_reg = LinearRegression()\n",
    "\n",
    "dp_linear_reg.fit(DPFCMS_training, Target_training)\n",
    "\n",
    "dp_linear_reg_const_intercept = dp_linear_reg.intercept_\n",
    "\n",
    "dp_liner_reg_coefficients = dp_linear_reg.coef_\n",
    "\n",
    "print (dp_linear_reg_const_intercept) \n",
    "\n",
    "print (dp_liner_reg_coefficients) \n",
    "\n",
    "\n",
    "print (DPCFM.columns)\n",
    "\n",
    "\n"
   ]
  },
  {
   "cell_type": "markdown",
   "metadata": {},
   "source": [
    "\n",
    "# Part E Results\n",
    "\n",
    "Based on the results in part E, assuming the columns of the scaled feature matrix and  <br>\n",
    "the original dataframe both in the same order: <br>\n",
    "\n",
    "y = 520.0391 - 264.6955 x Income + 360.56 x Limit + 252.7364 x Rating + 24.917 x Cards - 17.2389 x Age <br>\n",
    "     11.6581 x Education - 9.8285 x Married <br>\n",
    "    \n",
    "is our predictive model given by linear regression.\n",
    "\n",
    "\n"
   ]
  },
  {
   "cell_type": "markdown",
   "metadata": {},
   "source": [
    "\n",
    "# Part F \n",
    "\n",
    "\n"
   ]
  },
  {
   "cell_type": "code",
   "execution_count": 22,
   "metadata": {},
   "outputs": [
    {
     "name": "stdout",
     "output_type": "stream",
     "text": [
      "The root mean square error of the prediction is: 143.2464973964227\n"
     ]
    }
   ],
   "source": [
    "\n",
    "Target_prediction = dp_linear_reg.predict(DPFCMS_testing)\n",
    "\n",
    "\n",
    "from sklearn import metrics\n",
    "import numpy as np\n",
    "\n",
    "\n",
    "mean_sq_err = metrics.mean_squared_error(Target_testing, Target_prediction)\n",
    "\n",
    "root_mean_sq_err = np.sqrt(mean_sq_err)\n",
    "\n",
    "print ('The root mean square error of the prediction is: ' + str(root_mean_sq_err))\n",
    "\n"
   ]
  },
  {
   "cell_type": "markdown",
   "metadata": {},
   "source": [
    "\n",
    "# Part F Results\n",
    "From running cell F at this moment.\n",
    "The root mean square error of the prediction is: 143.2464973964227\n",
    "\n"
   ]
  },
  {
   "cell_type": "markdown",
   "metadata": {},
   "source": [
    "\n",
    "# Part G\n",
    "\n",
    "\n",
    "\n"
   ]
  },
  {
   "cell_type": "code",
   "execution_count": 23,
   "metadata": {},
   "outputs": [
    {
     "name": "stdout",
     "output_type": "stream",
     "text": [
      "160.33198910744133\n"
     ]
    }
   ],
   "source": [
    "\n",
    "\n",
    "\n",
    "import numpy as np\n",
    "\n",
    "import pandas as pd\n",
    "\n",
    "debt_pred_credit_df = pd.read_csv(\"https://github.com/mpourhoma/CS4661/raw/master/Credit.csv\")\n",
    "\n",
    "\n",
    "from sklearn import preprocessing\n",
    "\n",
    "debt_pred_list_of_feature_cols = list(debt_pred_credit_df.columns)\n",
    "\n",
    "\n",
    "debt_pred_list_of_feature_cols.remove('Balance')\n",
    "\n",
    "\n",
    "DPCFM = debt_pred_credit_df[debt_pred_list_of_feature_cols]\n",
    "\n",
    "Target_V = debt_pred_credit_df['Balance']\n",
    "\n",
    "\n",
    "DPFCM_scaled = preprocessing.scale(DPCFM)\n",
    "\n",
    "\n",
    "from sklearn.linear_model import LinearRegression\n",
    "\n",
    "debt_pred_linear_reg = LinearRegression()\n",
    "\n",
    "\n",
    "from sklearn.model_selection import cross_val_score\n",
    "\n",
    "k_folds = 10\n",
    "\n",
    "neg_mean_sq_err_list = cross_val_score(debt_pred_linear_reg,DPFCM_scaled,Target_V, cv = k_folds, scoring= 'neg_mean_squared_error')\n",
    "\n",
    "\n",
    "pos_mean_sq_err_list = -neg_mean_sq_err_list\n",
    "\n",
    "rt_mn_sq_list = np.sqrt (pos_mean_sq_err_list)\n",
    "\n",
    "real_rmse = rt_mn_sq_list.mean()\n",
    "\n",
    "print (real_rmse) \n",
    "\n",
    "\n",
    "\n"
   ]
  },
  {
   "cell_type": "markdown",
   "metadata": {},
   "source": [
    "\n",
    "# Part G Results\n",
    "\n",
    "Based on running Part G at this moment, the RMSE is: 160.33198910744133\n"
   ]
  },
  {
   "cell_type": "code",
   "execution_count": null,
   "metadata": {},
   "outputs": [],
   "source": []
  }
 ],
 "metadata": {
  "kernelspec": {
   "display_name": "Python 3",
   "language": "python",
   "name": "python3"
  },
  "language_info": {
   "codemirror_mode": {
    "name": "ipython",
    "version": 3
   },
   "file_extension": ".py",
   "mimetype": "text/x-python",
   "name": "python",
   "nbconvert_exporter": "python",
   "pygments_lexer": "ipython3",
   "version": "3.8.5"
  }
 },
 "nbformat": 4,
 "nbformat_minor": 4
}
