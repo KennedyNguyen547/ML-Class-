{
 "cells": [
  {
   "cell_type": "markdown",
   "metadata": {},
   "source": [
    "\n",
    "# This notebook has codes for random forest from scikit learn<br> and applying the bagging method with voting using scikit learn decision tree for a data science class assignment.\n"
   ]
  },
  {
   "cell_type": "markdown",
   "metadata": {},
   "source": [
    "\n",
    "# Part A\n"
   ]
  },
  {
   "cell_type": "code",
   "execution_count": 114,
   "metadata": {},
   "outputs": [
    {
     "data": {
      "text/html": [
       "<div>\n",
       "<style scoped>\n",
       "    .dataframe tbody tr th:only-of-type {\n",
       "        vertical-align: middle;\n",
       "    }\n",
       "\n",
       "    .dataframe tbody tr th {\n",
       "        vertical-align: top;\n",
       "    }\n",
       "\n",
       "    .dataframe thead th {\n",
       "        text-align: right;\n",
       "    }\n",
       "</style>\n",
       "<table border=\"1\" class=\"dataframe\">\n",
       "  <thead>\n",
       "    <tr style=\"text-align: right;\">\n",
       "      <th></th>\n",
       "      <th>Clump_Thickness</th>\n",
       "      <th>Uniformity_of_Cell_Size</th>\n",
       "      <th>Uniformity_of_Cell_Shape</th>\n",
       "      <th>Marginal_Adhesion</th>\n",
       "      <th>Single_Epithelial_Cell_Size</th>\n",
       "      <th>Bare_Nuclei</th>\n",
       "      <th>Bland_Chromatin</th>\n",
       "      <th>Normal_Nucleoli</th>\n",
       "      <th>Mitoses</th>\n",
       "      <th>Malignant_Cancer</th>\n",
       "    </tr>\n",
       "  </thead>\n",
       "  <tbody>\n",
       "    <tr>\n",
       "      <th>0</th>\n",
       "      <td>5</td>\n",
       "      <td>1</td>\n",
       "      <td>1</td>\n",
       "      <td>1</td>\n",
       "      <td>2</td>\n",
       "      <td>1</td>\n",
       "      <td>3</td>\n",
       "      <td>1</td>\n",
       "      <td>1</td>\n",
       "      <td>0</td>\n",
       "    </tr>\n",
       "    <tr>\n",
       "      <th>1</th>\n",
       "      <td>5</td>\n",
       "      <td>4</td>\n",
       "      <td>4</td>\n",
       "      <td>5</td>\n",
       "      <td>7</td>\n",
       "      <td>10</td>\n",
       "      <td>3</td>\n",
       "      <td>2</td>\n",
       "      <td>1</td>\n",
       "      <td>0</td>\n",
       "    </tr>\n",
       "    <tr>\n",
       "      <th>2</th>\n",
       "      <td>3</td>\n",
       "      <td>1</td>\n",
       "      <td>1</td>\n",
       "      <td>1</td>\n",
       "      <td>2</td>\n",
       "      <td>2</td>\n",
       "      <td>3</td>\n",
       "      <td>1</td>\n",
       "      <td>1</td>\n",
       "      <td>0</td>\n",
       "    </tr>\n",
       "    <tr>\n",
       "      <th>3</th>\n",
       "      <td>6</td>\n",
       "      <td>8</td>\n",
       "      <td>8</td>\n",
       "      <td>1</td>\n",
       "      <td>3</td>\n",
       "      <td>4</td>\n",
       "      <td>3</td>\n",
       "      <td>7</td>\n",
       "      <td>1</td>\n",
       "      <td>0</td>\n",
       "    </tr>\n",
       "    <tr>\n",
       "      <th>4</th>\n",
       "      <td>4</td>\n",
       "      <td>1</td>\n",
       "      <td>1</td>\n",
       "      <td>3</td>\n",
       "      <td>2</td>\n",
       "      <td>1</td>\n",
       "      <td>3</td>\n",
       "      <td>1</td>\n",
       "      <td>1</td>\n",
       "      <td>0</td>\n",
       "    </tr>\n",
       "  </tbody>\n",
       "</table>\n",
       "</div>"
      ],
      "text/plain": [
       "   Clump_Thickness  Uniformity_of_Cell_Size  Uniformity_of_Cell_Shape  \\\n",
       "0                5                        1                         1   \n",
       "1                5                        4                         4   \n",
       "2                3                        1                         1   \n",
       "3                6                        8                         8   \n",
       "4                4                        1                         1   \n",
       "\n",
       "   Marginal_Adhesion  Single_Epithelial_Cell_Size  Bare_Nuclei  \\\n",
       "0                  1                            2            1   \n",
       "1                  5                            7           10   \n",
       "2                  1                            2            2   \n",
       "3                  1                            3            4   \n",
       "4                  3                            2            1   \n",
       "\n",
       "   Bland_Chromatin  Normal_Nucleoli  Mitoses  Malignant_Cancer  \n",
       "0                3                1        1                 0  \n",
       "1                3                2        1                 0  \n",
       "2                3                1        1                 0  \n",
       "3                3                7        1                 0  \n",
       "4                3                1        1                 0  "
      ]
     },
     "execution_count": 114,
     "metadata": {},
     "output_type": "execute_result"
    }
   ],
   "source": [
    "\n",
    "import numpy as np\n",
    "\n",
    "import pandas as pd\n",
    "\n",
    "\n",
    "cancer_df  = pd.read_csv(\"https://github.com/mpourhoma/CS4661/raw/master/Cancer.csv\")\n",
    "\n",
    "cancer_df.head()\n",
    "\n"
   ]
  },
  {
   "cell_type": "markdown",
   "metadata": {},
   "source": [
    "\n",
    "# Part B\n"
   ]
  },
  {
   "cell_type": "code",
   "execution_count": 115,
   "metadata": {},
   "outputs": [],
   "source": [
    "\n",
    "\n",
    "\n",
    "from sklearn.model_selection import train_test_split\n",
    "\n",
    "# get all the columns\n",
    "\n",
    "cancer_feature_columns = list( cancer_df.columns )\n",
    "\n",
    "# remove the column that is the label\n",
    "\n",
    "cancer_feature_columns.remove ('Malignant_Cancer')\n",
    "\n",
    "# make the feature matrix\n",
    "\n",
    "Cancer_Feature_Matrix = cancer_df[cancer_feature_columns]\n",
    "\n",
    "\n",
    "Cancer_Label_Vector = cancer_df['Malignant_Cancer']\n",
    "\n",
    "# creating the dataset splits\n",
    "CFM_Training, CFM_Testing, CLV_Training, CLV_Testing = train_test_split(Cancer_Feature_Matrix,Cancer_Label_Vector, test_size = 0.35, random_state = 3)\n"
   ]
  },
  {
   "cell_type": "markdown",
   "metadata": {},
   "source": [
    "\n",
    "# Part C\n"
   ]
  },
  {
   "cell_type": "code",
   "execution_count": 116,
   "metadata": {},
   "outputs": [
    {
     "name": "stdout",
     "output_type": "stream",
     "text": [
      "0.8301886792452831\n"
     ]
    }
   ],
   "source": [
    "\n",
    "from sklearn.tree import DecisionTreeClassifier\n",
    "\n",
    "from sklearn.metrics import accuracy_score\n",
    "\n",
    "d_tree_state_value = 3\n",
    "\n",
    "dec_tree_classifier = DecisionTreeClassifier(random_state = d_tree_state_value )\n",
    "\n",
    "dec_tree_classifier.fit(CFM_Training,CLV_Training)\n",
    "\n",
    "dec_tree_pred = dec_tree_classifier.predict(CFM_Testing)\n",
    "\n",
    "dec_tree_acc = accuracy_score(CLV_Testing,dec_tree_pred)\n",
    "\n",
    "print (dec_tree_acc)"
   ]
  },
  {
   "cell_type": "markdown",
   "metadata": {},
   "source": [
    "\n",
    "# Part C Results\n",
    "At this time, the accuracy score is calculated to be: <br>\n",
    "0.8301886792452831\n"
   ]
  },
  {
   "cell_type": "markdown",
   "metadata": {},
   "source": [
    "\n",
    "# Part D\n"
   ]
  },
  {
   "cell_type": "code",
   "execution_count": 117,
   "metadata": {},
   "outputs": [
    {
     "name": "stdout",
     "output_type": "stream",
     "text": [
      "0.8867924528301887\n"
     ]
    }
   ],
   "source": [
    "\n",
    "# needed this\n",
    "from sklearn.utils import resample\n",
    "\n",
    "# needed this\n",
    "from collections import Counter\n",
    "\n",
    "\n",
    "\n",
    "size_of_original_dataset = len(cancer_df.index)\n",
    "\n",
    "bootstrap_size = int(0.8 * size_of_original_dataset)\n",
    "\n",
    "dec_tree_predict_list = []\n",
    "\n",
    "for i in range (0, 19, 1):\n",
    "    \n",
    "    # resampling the features training set\n",
    "    CFM_BS_DS_Training = resample(CFM_Training, n_samples = bootstrap_size, random_state = i, replace = True)\n",
    "    \n",
    "    # resampling the labels training set\n",
    "    CLV_BS_DS_Training = resample(CLV_Training, n_samples = bootstrap_size, random_state = i, replace = True)\n",
    "    \n",
    "    base_decision_tree = DecisionTreeClassifier(random_state = 3)\n",
    "    \n",
    "    base_decision_tree.fit(CFM_BS_DS_Training, CLV_BS_DS_Training)\n",
    "    \n",
    "    current_dec_tree_predict = base_decision_tree.predict(CFM_Testing)\n",
    "    \n",
    "    dec_tree_predict_list.append(current_dec_tree_predict)\n",
    "\n",
    "\n",
    "# I made a dataframe to check the data\n",
    "# I used the features inside pandas dataframe to\n",
    "# create rows from the columns of the dataframe\n",
    "result_df = pd.DataFrame(data = dec_tree_predict_list)    \n",
    "\n",
    "dec_trees_predictions_list = []\n",
    "\n",
    "dec_trees_final_prediction_list = []\n",
    "\n",
    "# this loop makes a list with it's rows as the columns of the\n",
    "# result dataframe\n",
    "for current_column in result_df.columns:\n",
    "    \n",
    "    current_column_list = result_df[current_column].tolist()\n",
    "    dec_trees_predictions_list.append(current_column_list)\n",
    "    \n",
    "# I use Counter from Collections to  do voting\n",
    "# it's recommended for more than 1 object counting\n",
    "for current_row in dec_trees_predictions_list:\n",
    "    \n",
    "    current_row_counter = Counter (current_row)\n",
    "    \n",
    "    if current_row_counter[1] > current_row_counter[0]:\n",
    "        dec_trees_final_prediction_list.append(1)\n",
    "        \n",
    "    elif current_row_counter[0] > current_row_counter[1]:\n",
    "        dec_trees_final_prediction_list.append(0)\n",
    "        \n",
    "    else:\n",
    "        dec_trees_final_prediction_list.append(0)\n",
    "        \n",
    "accuracy_rate = accuracy_score (CLV_Testing, dec_trees_final_prediction_list)\n",
    "    \n",
    "print(accuracy_rate)"
   ]
  },
  {
   "cell_type": "markdown",
   "metadata": {},
   "source": [
    "\n",
    "# Part D Results\n",
    "Bases on the accuracy soore of the ensemble. <br>\n",
    "At this time the accuracy score is calculated to be: 0.8867924528301887. <br>\n",
    "This seems to be an improvement compared to the single decision tree's <br>\n",
    "accuracy results from above.\n"
   ]
  },
  {
   "cell_type": "markdown",
   "metadata": {},
   "source": [
    "\n",
    "# Part E\n"
   ]
  },
  {
   "cell_type": "code",
   "execution_count": 118,
   "metadata": {},
   "outputs": [
    {
     "name": "stdout",
     "output_type": "stream",
     "text": [
      "0.9245283018867925\n"
     ]
    }
   ],
   "source": [
    "\n",
    "import numpy as np\n",
    "\n",
    "import pandas as pd\n",
    "\n",
    "from sklearn.model_selection import train_test_split\n",
    "\n",
    "from sklearn.ensemble import RandomForestClassifier\n",
    "\n",
    "from sklearn.metrics import accuracy_score\n",
    "\n",
    "\n",
    "cancer_df  = pd.read_csv(\"https://github.com/mpourhoma/CS4661/raw/master/Cancer.csv\")\n",
    "\n",
    "cancer_feature_columns = list( cancer_df.columns )\n",
    "\n",
    "cancer_feature_columns.remove ('Malignant_Cancer')\n",
    "\n",
    "Cancer_Feature_Matrix = cancer_df[cancer_feature_columns]\n",
    "\n",
    "Cancer_Label_Vector = cancer_df['Malignant_Cancer']\n",
    "\n",
    "CFM_Training, CFM_Testing, CLV_Training, CLV_Testing = train_test_split(Cancer_Feature_Matrix,Cancer_Label_Vector, test_size = 0.35, random_state = 3)\n",
    "\n",
    "\n",
    "random_forest_classifier = RandomForestClassifier(n_estimators = 19, bootstrap = True, random_state=3)\n",
    "\n",
    "random_forest_classifier.fit(CFM_Training,CLV_Training)\n",
    "\n",
    "rand_forest_prediction = random_forest_classifier.predict(CFM_Testing)\n",
    "\n",
    "rand_forest_acc_score = accuracy_score(CLV_Testing,rand_forest_prediction)\n",
    "\n",
    "print (rand_forest_acc_score)\n",
    "\n"
   ]
  },
  {
   "cell_type": "markdown",
   "metadata": {},
   "source": [
    "\n",
    "# Part E Result\n",
    "At the time of calculation, the accuracy of the <br>\n",
    "random forest classifier with this data is: 0.9245283018867925.\n",
    "\n"
   ]
  },
  {
   "cell_type": "code",
   "execution_count": null,
   "metadata": {},
   "outputs": [],
   "source": []
  }
 ],
 "metadata": {
  "kernelspec": {
   "display_name": "Python 3",
   "language": "python",
   "name": "python3"
  },
  "language_info": {
   "codemirror_mode": {
    "name": "ipython",
    "version": 3
   },
   "file_extension": ".py",
   "mimetype": "text/x-python",
   "name": "python",
   "nbconvert_exporter": "python",
   "pygments_lexer": "ipython3",
   "version": "3.8.5"
  }
 },
 "nbformat": 4,
 "nbformat_minor": 4
}
