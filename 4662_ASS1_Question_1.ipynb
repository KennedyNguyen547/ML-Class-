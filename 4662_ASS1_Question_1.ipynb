{
 "cells": [
  {
   "cell_type": "markdown",
   "metadata": {},
   "source": [
    "\n",
    "# Part One\n",
    "\n"
   ]
  },
  {
   "cell_type": "code",
   "execution_count": 48,
   "metadata": {},
   "outputs": [],
   "source": [
    "\n",
    "import numpy as np\n",
    "\n",
    "import pandas as pd\n",
    "\n",
    "# load the data into a data frame\n",
    "cancer_df = pd.read_csv(\"https://github.com/mpourhoma/CS4662/raw/master/Cancer.csv\")\n",
    "\n",
    "\n"
   ]
  },
  {
   "cell_type": "markdown",
   "metadata": {},
   "source": [
    "\n",
    "# Part Two\n",
    "\n"
   ]
  },
  {
   "cell_type": "code",
   "execution_count": 49,
   "metadata": {},
   "outputs": [],
   "source": [
    "\n",
    "# train test split\n",
    "\n",
    "from sklearn.model_selection import train_test_split\n",
    "\n",
    "\n",
    "cancer_features_cols = list(cancer_df.columns)\n",
    "\n",
    "cancer_features_cols.remove('Malignant_Cancer')\n",
    "\n",
    "cancer_features = cancer_df[cancer_features_cols]\n",
    "\n",
    "cancer_labels = cancer_df['Malignant_Cancer']\n",
    "\n",
    "\n",
    "Features_Train, Features_Test, Labels_Train, Labels_Test = train_test_split(cancer_features, \n",
    "                                                                            cancer_labels, test_size = 0.3,random_state = 2)\n",
    "\n"
   ]
  },
  {
   "cell_type": "markdown",
   "metadata": {},
   "source": [
    "\n",
    "\n",
    "# Part Three\n",
    "\n",
    "\n"
   ]
  },
  {
   "cell_type": "code",
   "execution_count": 50,
   "metadata": {},
   "outputs": [
    {
     "name": "stdout",
     "output_type": "stream",
     "text": [
      "Accuracy Score: 0.8666666666666667\n",
      "Area Under the Curve: 0.8697478991596639\n"
     ]
    }
   ],
   "source": [
    "\n",
    "# accuracy score and area under the curve for \n",
    "# Decision Tree Classifier\n",
    "\n",
    "from sklearn.tree import DecisionTreeClassifier\n",
    "\n",
    "from sklearn.metrics import accuracy_score\n",
    "\n",
    "from sklearn import metrics\n",
    "\n",
    "dec_tree_clssr = DecisionTreeClassifier(random_state = 2)\n",
    "\n",
    "dec_tree_clssr.fit(Features_Train, Labels_Train)\n",
    "\n",
    "dec_tree_prediction = dec_tree_clssr.predict(Features_Test)\n",
    "\n",
    "dec_tree_acc = accuracy_score(Labels_Test, dec_tree_prediction )\n",
    "\n",
    "dec_tree_label_proba = dec_tree_clssr.predict_proba(Features_Test)\n",
    "\n",
    "# dec tree roc curve\n",
    "DT_FPR, DT_TPR, thresholds = metrics.roc_curve ( Labels_Test,\n",
    "                                                               dec_tree_label_proba[:,1], pos_label=1 )\n",
    "# dec tree auc\n",
    "DT_auc = metrics.auc(DT_FPR, DT_TPR)\n",
    "\n",
    "print ( 'Accuracy Score: ' + str(dec_tree_acc ) )\n",
    "\n",
    "print ( 'Area Under the Curve: ' + str( DT_auc))\n",
    "\n"
   ]
  },
  {
   "cell_type": "markdown",
   "metadata": {},
   "source": [
    "\n",
    "\n",
    "# Part Four\n"
   ]
  },
  {
   "cell_type": "code",
   "execution_count": 51,
   "metadata": {},
   "outputs": [
    {
     "name": "stdout",
     "output_type": "stream",
     "text": [
      "Bagging method using decision trees accuracy score: 0.8666666666666667\n",
      "Bagging method using decision trees AUC: 0.935924369747899\n"
     ]
    }
   ],
   "source": [
    "\n",
    "# accuracy score and area under the curve for\n",
    "# Bagging method using Decision Trees\n",
    "\n",
    "\n",
    "import numpy as np\n",
    "\n",
    "import pandas as pd\n",
    "\n",
    "from sklearn.model_selection import train_test_split\n",
    "\n",
    "from sklearn.tree import DecisionTreeClassifier\n",
    "\n",
    "from sklearn.metrics import accuracy_score\n",
    "\n",
    "from sklearn import metrics\n",
    "\n",
    "from sklearn.utils import resample\n",
    "\n",
    "from collections import Counter\n",
    "\n",
    "\n",
    "rows_of_cancer_df = len(cancer_df.index)\n",
    "\n",
    "bootstrap_size = int(0.8 * rows_of_cancer_df)\n",
    "\n",
    "\n",
    "\n",
    "base_dec_tree_predictions = []\n",
    "\n",
    "\n",
    "\n",
    "for i in range (0, 29, 1):\n",
    "    \n",
    "    ft_train_rs = resample( Features_Train, n_samples = bootstrap_size, random_state = i, replace = True)\n",
    "    \n",
    "    lb_train_rs = resample( Labels_Train, n_samples = bootstrap_size, random_state = i, replace = True)\n",
    "    \n",
    "    base_dec_tree = DecisionTreeClassifier(random_state = 2)\n",
    "    \n",
    "    base_dec_tree.fit(ft_train_rs, lb_train_rs)\n",
    "    \n",
    "    cur_predict = base_dec_tree.predict( Features_Test )\n",
    "    \n",
    "    base_dec_tree_predictions.append ( cur_predict )\n",
    "    \n",
    "\n",
    "\n",
    "    \n",
    "    \n",
    "# voting for accuracy score for bagging\n",
    "\n",
    "result_df = pd.DataFrame( data = base_dec_tree_predictions)\n",
    "\n",
    "dec_tree_pred_list = []\n",
    "\n",
    "dec_tree_final_preds_list = []\n",
    "\n",
    "for current_column in result_df.columns:\n",
    "    \n",
    "    cur_col_list = result_df[current_column].tolist()\n",
    "    \n",
    "    dec_tree_pred_list.append(cur_col_list)\n",
    "    \n",
    "    \n",
    "\n",
    "for current_row in dec_tree_pred_list:\n",
    "    \n",
    "    current_row_counter = Counter (current_row)\n",
    "    \n",
    "    if current_row_counter[1] > current_row_counter[0]:\n",
    "        dec_tree_final_preds_list.append(1)\n",
    "        \n",
    "    elif current_row_counter[0] > current_row_counter[1]:\n",
    "        dec_tree_final_preds_list.append(0)\n",
    "        \n",
    "    else:\n",
    "        dec_tree_final_preds_list.append(0)\n",
    "\n",
    "bagging_acc_rate = accuracy_score ( Labels_Test, dec_tree_final_preds_list)\n",
    "\n",
    "\n",
    "\n",
    "# calculating AUC for bagging\n",
    "\n",
    "result_df_transposed = result_df.transpose(copy=True)\n",
    "\n",
    "result_df_tranposed_lists = result_df_transposed.values.tolist()\n",
    "\n",
    "list_of_sample_probas = []\n",
    "\n",
    "for current_row in result_df_tranposed_lists:\n",
    "    \n",
    "    current_row_counter = Counter ( current_row )\n",
    "    \n",
    "    number_of_zeros = current_row_counter[0]\n",
    "    \n",
    "    number_of_ones = current_row_counter[1]\n",
    "    \n",
    "    proba_of_neg = number_of_zeros / len(current_row)\n",
    "\n",
    "    proba_of_pos = number_of_ones / len(current_row)\n",
    "\n",
    "    list_of_sample_probas.append ( [ proba_of_neg , proba_of_pos ] )\n",
    "    \n",
    "list_of_sample_probas_ndarray = np.array( list_of_sample_probas )\n",
    "    \n",
    "DT_BAG_FPR, DT_BAG_TPR, DT_BAG_thresholds = metrics.roc_curve( Labels_Test, list_of_sample_probas_ndarray[:, 1], pos_label= 1)\n",
    "\n",
    "DT_BAG_AUC = metrics.auc( DT_BAG_FPR, DT_BAG_TPR )\n",
    "\n",
    "\n",
    "print ( 'Bagging method using decision trees accuracy score: ' + str (bagging_acc_rate) )\n",
    "\n",
    "print ( 'Bagging method using decision trees AUC: ' +  str(DT_BAG_AUC) )\n",
    "\n",
    "\n"
   ]
  },
  {
   "cell_type": "markdown",
   "metadata": {},
   "source": [
    "\n",
    "\n",
    "\n",
    "# Part Five\n",
    "\n",
    "\n",
    "\n"
   ]
  },
  {
   "cell_type": "code",
   "execution_count": 52,
   "metadata": {},
   "outputs": [
    {
     "name": "stdout",
     "output_type": "stream",
     "text": [
      "AdaBoostClassifier accuracy score: 0.9555555555555556\n",
      "AdaBoostClassifier Area Under the Curve: 0.9653361344537815\n"
     ]
    }
   ],
   "source": [
    "\n",
    "# accuracy score and area under the curve for \n",
    "# AdaBoost Classifier\n",
    "\n",
    "from sklearn.ensemble import AdaBoostClassifier\n",
    "\n",
    "ada_boost_clssr = AdaBoostClassifier(n_estimators = 29, random_state= 2)\n",
    "\n",
    "\n",
    "ada_boost_clssr.fit ( Features_Train, Labels_Train )\n",
    "\n",
    "ada_boost_c_predictions = ada_boost_clssr.predict( Features_Test )\n",
    "\n",
    "ada_boost_c_acc = accuracy_score ( Labels_Test, ada_boost_c_predictions )\n",
    "\n",
    "#print ( ada_boost_c_acc )\n",
    "\n",
    "ada_boost_labels_proba = ada_boost_clssr.predict_proba( Features_Test )\n",
    "\n",
    "# adaboost roc curve\n",
    "ADBC_FPR, ADBC_TPR, ADBC_thresholds = metrics.roc_curve( Labels_Test, ada_boost_labels_proba[:, 1], pos_label =1 )\n",
    "\n",
    "# adaboost auc\n",
    "ADBC_AUC = metrics.auc ( ADBC_FPR, ADBC_TPR )\n",
    "\n",
    "print ( 'AdaBoostClassifier accuracy score: ' + str( ada_boost_c_acc ) )\n",
    "\n",
    "print ( 'AdaBoostClassifier Area Under the Curve: ' + str ( ADBC_AUC ))\n",
    "\n",
    "\n"
   ]
  },
  {
   "cell_type": "markdown",
   "metadata": {},
   "source": [
    "\n",
    "# Part Six\n"
   ]
  },
  {
   "cell_type": "code",
   "execution_count": 53,
   "metadata": {},
   "outputs": [
    {
     "name": "stdout",
     "output_type": "stream",
     "text": [
      "XGBoost Classifier accuracy score: 0.9555555555555556\n",
      "XGBoost Classifier AUC: 0.9716386554621849\n"
     ]
    }
   ],
   "source": [
    "\n",
    "# accuracy score and area under the curve for\n",
    "# XGBoost Classifier\n",
    "\n",
    "\n",
    "\n",
    "from xgboost import XGBClassifier\n",
    "\n",
    "xgb_clssr = XGBClassifier( n_estimators= 29, random_state = 2, use_label_encoder = False)\n",
    "\n",
    "xgb_clssr.fit ( Features_Train, Labels_Train, eval_metric ='logloss')\n",
    "\n",
    "xgbc_predictions = xgb_clssr.predict ( Features_Test )\n",
    "\n",
    "xgbc_acc = accuracy_score ( Labels_Test, xgbc_predictions  )\n",
    "\n",
    "xgbc_labels_proba = xgb_clssr.predict_proba( Features_Test )\n",
    "\n",
    "XGBC_FPR, XGBC_TPR, XGBC_thresholds = metrics.roc_curve ( Labels_Test, xgbc_labels_proba[:, 1], pos_label=1 )\n",
    "\n",
    "XGBC_AUC = metrics.auc ( XGBC_FPR, XGBC_TPR )\n",
    "\n",
    "print ( 'XGBoost Classifier accuracy score: ' + str ( xgbc_acc ) )\n",
    "\n",
    "print ( 'XGBoost Classifier AUC: ' + str ( XGBC_AUC ))\n",
    "\n",
    "\n"
   ]
  },
  {
   "cell_type": "markdown",
   "metadata": {},
   "source": [
    "\n",
    "\n",
    "# Part Seven\n"
   ]
  },
  {
   "cell_type": "code",
   "execution_count": 54,
   "metadata": {},
   "outputs": [
    {
     "name": "stdout",
     "output_type": "stream",
     "text": [
      "Random Forest Classifier accuracy score: 0.9555555555555556\n",
      "Random Forest Classifier Area Under the Curve: 0.9516806722689075\n"
     ]
    }
   ],
   "source": [
    "\n",
    "\n",
    "# accuracy score and area under the curve for\n",
    "# Random Forest Classifier\n",
    "\n",
    "\n",
    "from sklearn.ensemble import RandomForestClassifier\n",
    "\n",
    "rand_for_clssr = RandomForestClassifier( n_estimators = 29, bootstrap = True, random_state = 2)\n",
    "\n",
    "rand_for_clssr.fit ( Features_Train, Labels_Train )\n",
    "\n",
    "rand_for_predictions = rand_for_clssr.predict( Features_Test )\n",
    "\n",
    "rand_for_acc = accuracy_score ( Labels_Test, rand_for_predictions )\n",
    "\n",
    "rand_for_labels_proba = rand_for_clssr.predict_proba( Features_Test )\n",
    "\n",
    "RF_FPR, RF_TPR, RF_thresholds = metrics.roc_curve ( Labels_Test, rand_for_labels_proba[:, 1], pos_label = 1 )\n",
    "\n",
    "RF_AUC = metrics.auc ( RF_FPR, RF_TPR )\n",
    "\n",
    "print ( 'Random Forest Classifier accuracy score: ' + str( rand_for_acc ))\n",
    "\n",
    "print ( 'Random Forest Classifier Area Under the Curve: ' + str( RF_AUC ))\n"
   ]
  },
  {
   "cell_type": "markdown",
   "metadata": {},
   "source": [
    "\n",
    "# Part Eight\n",
    "\n",
    "\n"
   ]
  },
  {
   "cell_type": "code",
   "execution_count": 55,
   "metadata": {},
   "outputs": [
    {
     "data": {
      "image/png": "[encoded data removed]",
      "text/plain": [
       "<Figure size 432x288 with 1 Axes>"
      ]
     },
     "metadata": {
      "needs_background": "light"
     },
     "output_type": "display_data"
    }
   ],
   "source": [
    "\n",
    "\n",
    "#codes for plotting the AUC values of each algorithm\n",
    "# using matplotlib\n",
    "\n",
    "\n",
    "import matplotlib.pyplot as plt\n",
    "\n",
    "%matplotlib inline\n",
    "\n",
    "\n",
    "plt.figure()\n",
    "\n",
    "\n",
    "# decision tree plot\n",
    "\n",
    "plt.plot( DT_FPR, DT_TPR, color='red', lw= 2, \n",
    "           label='Decision Tree ROC Curve ( area = %0.2f)' % DT_auc )\n",
    "\n",
    "\n",
    "# bagging with decision trees plot\n",
    "\n",
    "\n",
    "plt.plot( DT_BAG_FPR, DT_BAG_TPR, color='orange', lw= 2, \n",
    "           label='Bagging Dec Trees ROC Curve ( area = %0.2f)' % DT_BAG_AUC )\n",
    "\n",
    "\n",
    "\n",
    "# adaboost plot\n",
    "\n",
    "plt.plot( ADBC_FPR, ADBC_TPR, color='green', lw= 2, \n",
    "           label='AdaBoost Classifier ROC Curve ( area = %0.2f)' % ADBC_AUC )\n",
    "\n",
    "\n",
    "# xgboost plot\n",
    "\n",
    "plt.plot( XGBC_FPR, XGBC_TPR, color='blue', lw= 2, \n",
    "           label='XGBoost Classifier ROC Curve ( area = %0.2f)' % XGBC_AUC )\n",
    "\n",
    "# random forest plot\n",
    "\n",
    "\n",
    "plt.plot( XGBC_FPR, XGBC_TPR, color='purple', lw= 2, \n",
    "           label='Random Forest Classifier ROC Curve ( area = %0.2f)' % RF_AUC )\n",
    "\n",
    "\n",
    "# random guess plot\n",
    "plt.plot([0, 1], [0, 1], color='blue', lw=1, linestyle='--')\n",
    "\n",
    "\n",
    "# plot legends\n",
    "plt.xlabel('False Positive Rate')\n",
    "plt.ylabel('True Positive Rate')\n",
    "plt.title('Receiver operating characteristic')\n",
    "plt.legend(loc=\"lower right\")\n",
    "\n",
    "plt.show()\n",
    "\n",
    "\n"
   ]
  },
  {
   "cell_type": "code",
   "execution_count": 56,
   "metadata": {},
   "outputs": [
    {
     "name": "stdout",
     "output_type": "stream",
     "text": [
      "Decision Tree Area Under the Curve: 0.8697478991596639\n",
      "Bagging Method Area Under the Curve: 0.935924369747899\n",
      "AdaBoostClassifier Area Under the Curve: 0.9653361344537815\n",
      "XGBoost Classifier AUC: 0.9716386554621849\n",
      "Random Forest Classifier Area Under the Curve: 0.9516806722689075\n"
     ]
    }
   ],
   "source": [
    "\n",
    "# comparing AUC values for each algorithm\n",
    "\n",
    "print ( 'Decision Tree Area Under the Curve: ' + str( DT_auc))\n",
    "\n",
    "print ( 'Bagging Method Area Under the Curve: ' + str(DT_BAG_AUC ) )\n",
    "\n",
    "print ( 'AdaBoostClassifier Area Under the Curve: ' + str ( ADBC_AUC ))\n",
    "\n",
    "print ( 'XGBoost Classifier AUC: ' + str ( XGBC_AUC ))\n",
    "\n",
    "print ( 'Random Forest Classifier Area Under the Curve: ' + str( RF_AUC ))\n"
   ]
  },
  {
   "cell_type": "markdown",
   "metadata": {},
   "source": [
    "\n",
    "Based on the results, the best algorithm w.r.t the AUC value is the XGBoost Classifier.\n",
    "\n"
   ]
  },
  {
   "cell_type": "code",
   "execution_count": 57,
   "metadata": {},
   "outputs": [
    {
     "name": "stdout",
     "output_type": "stream",
     "text": [
      "Decision Tree Accuracy Score: 0.8666666666666667\n",
      "Bagging Method with Decision Tree Accuracy Score: 0.8666666666666667\n",
      "AdaBoostClassifier Accuracy Score: 0.9555555555555556\n",
      "XGBoost Classifier Accuracy Score: 0.9555555555555556\n",
      "Random Forest Classifier Accuracy Score: 0.9555555555555556\n"
     ]
    }
   ],
   "source": [
    "\n",
    "# comparing the accuracy score for each algorithm\n",
    "\n",
    "\n",
    "print ( 'Decision Tree Accuracy Score: ' + str(dec_tree_acc) )\n",
    "\n",
    "print ( 'Bagging Method with Decision Tree Accuracy Score: ' + str ( bagging_acc_rate ))\n",
    "\n",
    "print ( 'AdaBoostClassifier Accuracy Score: ' + str( ada_boost_c_acc ) )\n",
    "\n",
    "print ( 'XGBoost Classifier Accuracy Score: ' + str ( xgbc_acc ) )\n",
    "\n",
    "print ( 'Random Forest Classifier Accuracy Score: ' + str( rand_for_acc ))\n"
   ]
  },
  {
   "cell_type": "markdown",
   "metadata": {},
   "source": [
    "\n",
    "Based on the results, the ensemble classifier algorithms seem to tie w.r.t the Accuracy value.\n",
    "\n"
   ]
  },
  {
   "cell_type": "code",
   "execution_count": 59,
   "metadata": {},
   "outputs": [
    {
     "name": "stdout",
     "output_type": "stream",
     "text": [
      "Decision Tree False Positive Rate: [0.         0.11764706 1.        ]\n",
      "\n",
      "Bagging Method with Decision Trees False Positive Rate: [0.         0.05882353 0.05882353 0.05882353 0.11764706 0.11764706\n",
      " 0.17647059 0.17647059 0.29411765 0.35294118 1.        ]\n",
      "\n",
      "AdaBoostClassifier False Positive Rate: [0.         0.         0.         0.         0.         0.\n",
      " 0.         0.05882353 0.05882353 0.11764706 0.11764706 0.35294118\n",
      " 0.52941176 1.        ]\n",
      "\n",
      "XGBoost Classifier False Positive Rate: [0.         0.         0.         0.         0.         0.05882353\n",
      " 0.05882353 0.23529412 0.35294118 0.52941176 1.        ]\n",
      "\n",
      "Random Forest Classifier False Positive Rate: [0.         0.05882353 0.05882353 0.05882353 0.05882353 0.05882353\n",
      " 0.05882353 0.29411765 1.        ]\n",
      "\n"
     ]
    }
   ],
   "source": [
    "\n",
    "# comparing False Positive Rates\n",
    "# each variable is an array\n",
    "\n",
    "print ( 'Decision Tree False Positive Rate: ' + str(DT_FPR) + '\\n')\n",
    "\n",
    "print ( 'Bagging Method with Decision Trees False Positive Rate: ' + str (DT_BAG_FPR) + '\\n')\n",
    "\n",
    "print ( 'AdaBoostClassifier False Positive Rate: ' + str( ADBC_FPR ) + '\\n')\n",
    "\n",
    "print ( 'XGBoost Classifier False Positive Rate: ' + str( XGBC_FPR ) + '\\n')\n",
    "\n",
    "print ( 'Random Forest Classifier False Positive Rate: ' + str ( RF_FPR ) + '\\n')\n",
    "\n"
   ]
  },
  {
   "cell_type": "markdown",
   "metadata": {},
   "source": [
    "\n",
    "Given that each of these fpr values are actual arrays, I tried computing the average of each. <br>\n",
    "But each array has an average above 0.07.\n",
    "\n",
    "The below codes are manually constructed confusion matrices for each algorithm."
   ]
  },
  {
   "cell_type": "code",
   "execution_count": 60,
   "metadata": {},
   "outputs": [
    {
     "name": "stdout",
     "output_type": "stream",
     "text": [
      "[0.14285714 0.11764706]\n",
      "[0.14285714 0.11764706]\n",
      "[0.03571429 0.05882353]\n",
      "[0.03571429 0.05882353]\n",
      "[0.         0.11764706]\n"
     ]
    }
   ],
   "source": [
    "\n",
    "# codes used to manually calculate the False Positive Rates\n",
    "# other values are calculated as need to find the \n",
    "# False Positive Rates\n",
    "\n",
    "from sklearn.metrics import confusion_matrix\n",
    "\n",
    "DT_CF_MAT = confusion_matrix(Labels_Test, dec_tree_prediction)\n",
    "\n",
    "DT_BG_CF_MAT = confusion_matrix(Labels_Test, dec_tree_final_preds_list)\n",
    "\n",
    "ADB_CF_MAT = confusion_matrix(Labels_Test, ada_boost_c_predictions)\n",
    "\n",
    "XGB_CF_MAT = confusion_matrix( Labels_Test, xgbc_predictions )\n",
    "\n",
    "RF_CF_MAT = confusion_matrix( Labels_Test, rand_for_predictions)\n",
    "\n",
    "\n",
    "\n",
    "\n",
    "DT_FP = DT_CF_MAT.sum(axis=0) - np.diag (DT_CF_MAT)\n",
    "\n",
    "DT_FN = DT_CF_MAT.sum(axis=1) - np.diag (DT_CF_MAT)\n",
    "\n",
    "DT_TP = np.diag (DT_CF_MAT)\n",
    "\n",
    "DT_TN = DT_CF_MAT.sum() - (DT_FP + DT_FN + DT_TP)\n",
    "\n",
    "\n",
    "DT_CF_FPR = DT_FP/ (DT_FP + DT_TN  )\n",
    "\n",
    "\n",
    "\n",
    "\n",
    "DT_BG_FP = DT_BG_CF_MAT.sum(axis=0) - np.diag (DT_BG_CF_MAT)\n",
    "\n",
    "DT_BG_FN = DT_BG_CF_MAT.sum(axis=1) - np.diag (DT_BG_CF_MAT)\n",
    "\n",
    "DT_BG_TP = np.diag (DT_BG_CF_MAT)\n",
    "\n",
    "DT_BG_TN = DT_BG_CF_MAT.sum() - (DT_BG_FP + DT_BG_FN + DT_BG_TP)\n",
    "\n",
    "\n",
    "DT_BG_FPR = DT_BG_FP / (DT_BG_FP + DT_BG_TN )\n",
    "\n",
    "\n",
    "\n",
    "\n",
    "ADB_FP = ADB_CF_MAT.sum(axis=0) - np.diag (ADB_CF_MAT)\n",
    "\n",
    "ADB_FN = ADB_CF_MAT.sum(axis=1) - np.diag (ADB_CF_MAT)\n",
    "\n",
    "ADB_TP = np.diag (ADB_CF_MAT)\n",
    "\n",
    "ADB_TN = ADB_CF_MAT.sum() - (ADB_FP + ADB_FN + ADB_TP)\n",
    "\n",
    "\n",
    "ADB_FPR = ADB_FP / (ADB_FP + ADB_TN)\n",
    "\n",
    "\n",
    "\n",
    "XGB_FP = XGB_CF_MAT.sum(axis=0) - np.diag (XGB_CF_MAT)\n",
    "\n",
    "XGB_FN = XGB_CF_MAT.sum(axis=1) - np.diag (XGB_CF_MAT)\n",
    "\n",
    "XGB_TP = np.diag (XGB_CF_MAT)\n",
    "\n",
    "XGB_TN = XGB_CF_MAT.sum() - (XGB_FP + XGB_FN + XGB_TP)\n",
    "\n",
    "\n",
    "XGB_FPR = XGB_FP / (XGB_FP + XGB_TN)\n",
    "\n",
    "\n",
    "\n",
    "\n",
    "\n",
    "\n",
    "RF_FP = RF_CF_MAT.sum(axis=0) - np.diag (RF_CF_MAT)\n",
    "\n",
    "RF_FN = RF_CF_MAT.sum(axis=1) - np.diag (RF_CF_MAT)\n",
    "\n",
    "RF_TP = np.diag (RF_CF_MAT)\n",
    "\n",
    "RF_TN = RF_CF_MAT.sum() - (RF_FP + RF_FN + RF_TP)\n",
    "\n",
    "\n",
    "RF_FPR = RF_FP / (RF_FP + RF_TN)\n",
    "\n",
    "\n",
    "print (DT_CF_FPR )\n",
    "\n",
    "print (DT_BG_FPR )\n",
    "\n",
    "print (ADB_FPR )\n",
    "\n",
    "print (XGB_FPR )\n",
    "\n",
    "print (RF_FPR )\n",
    "\n",
    "\n"
   ]
  },
  {
   "cell_type": "markdown",
   "metadata": {},
   "source": [
    "\n",
    "Based on these results from manually computing the values each confusion matrix for each algorithm <br>\n",
    "the two algorithms to use if we want False Positive Rates below 7% would be a tie between <br>\n",
    "AdaBoost Classifier and the XGBoost Classifier.\n",
    "\n"
   ]
  },
  {
   "cell_type": "code",
   "execution_count": null,
   "metadata": {},
   "outputs": [],
   "source": [
    "\n"
   ]
  }
 ],
 "metadata": {
  "kernelspec": {
   "display_name": "Python 3",
   "language": "python",
   "name": "python3"
  },
  "language_info": {
   "codemirror_mode": {
    "name": "ipython",
    "version": 3
   },
   "file_extension": ".py",
   "mimetype": "text/x-python",
   "name": "python",
   "nbconvert_exporter": "python",
   "pygments_lexer": "ipython3",
   "version": "3.8.5"
  }
 },
 "nbformat": 4,
 "nbformat_minor": 4
}
