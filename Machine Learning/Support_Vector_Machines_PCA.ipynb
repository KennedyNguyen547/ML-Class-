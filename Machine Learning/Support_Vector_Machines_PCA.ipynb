{
 "cells": [
  {
   "cell_type": "markdown",
   "metadata": {},
   "source": [
    "\n",
    "# This notebook was done as the second part to the third assignment of a machine learning class. This notebook contains codes using Support Vector Machines with Principal Component Analysis. The dataset was on 64x64 grayscale images doing facial recognition.\n"
   ]
  },
  {
   "cell_type": "markdown",
   "metadata": {},
   "source": [
    "\n",
    "\n",
    "# Reference Links:\n",
    "For data set in this notebook\n",
    "https://drive.google.com/drive/folders/14Mi1I91iVQ13PG0SPjh9wN5NSNlBb3rb?usp=sharing\n"
   ]
  },
  {
   "cell_type": "markdown",
   "metadata": {},
   "source": [
    "\n",
    "\n",
    "# Part A\n"
   ]
  },
  {
   "cell_type": "code",
   "execution_count": 1,
   "metadata": {},
   "outputs": [],
   "source": [
    "\n",
    "import matplotlib.image as mpimg\n",
    "import numpy as np\n",
    "import pandas as pd\n",
    "from sklearn import preprocessing\n",
    "from sklearn.model_selection import train_test_split\n",
    "\n",
    "label_df = pd.read_csv('C:\\\\Users\\\\KennoHead\\\\Desktop\\\\spring 2021\\\\4662\\\\Week 11\\\\Face-20210407T015356Z-001\\\\Face\\\\label.csv')\n",
    "image_pixel_positions = []\n",
    "\n",
    "for i in range (1, 4097, 1):\n",
    "    image_pixel_positions.append (str(i))\n",
    "\n",
    "Face_df = pd.DataFrame(columns = image_pixel_positions)\n"
   ]
  },
  {
   "cell_type": "markdown",
   "metadata": {},
   "source": [
    "\n",
    "# Part B\n"
   ]
  },
  {
   "cell_type": "code",
   "execution_count": 2,
   "metadata": {},
   "outputs": [
    {
     "name": "stdout",
     "output_type": "stream",
     "text": [
      "Done Processing!\n"
     ]
    }
   ],
   "source": [
    "\n",
    "\n",
    "file_path = 'C:\\\\Users\\\\KennoHead\\\\Desktop\\\\spring 2021\\\\4662\\\\Week 11\\\\Face-20210407T015356Z-001\\\\Face\\\\'\n",
    "\n",
    "for i in range (0, 400, 1):\n",
    "    current_image = mpimg.imread( file_path + str(i) + '.jpg')\n",
    "    current_image_pixels_np_array = np.asarray(current_image)\n",
    "    current_image_pixels_np_array = current_image_pixels_np_array.flatten()\n",
    "    Face_df.loc[i] = current_image_pixels_np_array\n",
    "    \n",
    "\n",
    "Face_df['Label'] = label_df['Label']\n",
    "\n",
    "print ('Done Processing!')\n"
   ]
  },
  {
   "cell_type": "markdown",
   "metadata": {},
   "source": [
    "\n",
    "# Part C\n"
   ]
  },
  {
   "cell_type": "code",
   "execution_count": 3,
   "metadata": {},
   "outputs": [],
   "source": [
    "\n",
    "Face_Features = Face_df[ image_pixel_positions ]\n",
    "\n",
    "Face_Labels = Face_df ['Label']\n",
    "\n",
    "Face_Features_Scaled = preprocessing.scale(Face_Features)\n",
    "\n"
   ]
  },
  {
   "cell_type": "markdown",
   "metadata": {},
   "source": [
    "\n",
    "# Part D\n",
    "\n"
   ]
  },
  {
   "cell_type": "code",
   "execution_count": 4,
   "metadata": {},
   "outputs": [],
   "source": [
    "\n",
    "Face_Features_Training, Face_Features_Testing, Face_Labels_Training, Face_Labels_Testing = train_test_split (Face_Features_Scaled, Face_Labels, test_size =0.25, random_state = 5)\n",
    "\n"
   ]
  },
  {
   "cell_type": "markdown",
   "metadata": {},
   "source": [
    "\n",
    "# Part E\n",
    "\n",
    "\n"
   ]
  },
  {
   "cell_type": "code",
   "execution_count": 5,
   "metadata": {},
   "outputs": [],
   "source": [
    "\n",
    "from  sklearn.decomposition  import  PCA\n",
    "\n",
    "k = 50\n",
    "P_C_A = PCA(n_components = k)\n",
    "Face_Features_Training_pca = P_C_A.fit_transform( Face_Features_Training )\n",
    "Face_Features_Testing_pca = P_C_A.transform( Face_Features_Testing )\n"
   ]
  },
  {
   "cell_type": "markdown",
   "metadata": {},
   "source": [
    "\n",
    "# Part F\n"
   ]
  },
  {
   "cell_type": "code",
   "execution_count": 6,
   "metadata": {},
   "outputs": [
    {
     "name": "stdout",
     "output_type": "stream",
     "text": [
      "0.91\n",
      "[[3 0 0 ... 0 0 0]\n",
      " [0 3 0 ... 0 0 0]\n",
      " [0 0 1 ... 0 0 0]\n",
      " ...\n",
      " [0 0 0 ... 0 0 0]\n",
      " [0 0 0 ... 0 4 0]\n",
      " [0 0 0 ... 0 0 1]]\n"
     ]
    }
   ],
   "source": [
    "\n",
    "from sklearn import svm\n",
    "from sklearn.metrics import accuracy_score\n",
    "from sklearn.metrics import confusion_matrix\n",
    "\n",
    "SVM_Classifier = svm.SVC( C = 1.0, kernel = 'rbf', gamma = 0.0005, random_state = 1)\n",
    "\n",
    "SVM_Classifier.fit( Face_Features_Training_pca, Face_Labels_Training )\n",
    "SVC_Predictions = SVM_Classifier.predict( Face_Features_Testing_pca )\n",
    "SVC_Accuracy_Score = accuracy_score( Face_Labels_Testing, SVC_Predictions )\n",
    "SVC_confusion_matrix = confusion_matrix( Face_Labels_Testing, SVC_Predictions )\n",
    "\n",
    "print ( SVC_Accuracy_Score )\n",
    "print( SVC_confusion_matrix )\n"
   ]
  },
  {
   "cell_type": "markdown",
   "metadata": {},
   "source": [
    "\n",
    "# Part F Results\n",
    "The accuracy score was 91.00%\n"
   ]
  },
  {
   "cell_type": "markdown",
   "metadata": {},
   "source": [
    "\n",
    "# Part G\n"
   ]
  },
  {
   "cell_type": "code",
   "execution_count": 11,
   "metadata": {},
   "outputs": [
    {
     "name": "stdout",
     "output_type": "stream",
     "text": [
      "{'C': 10}\n"
     ]
    }
   ],
   "source": [
    "\n",
    "from sklearn.model_selection import GridSearchCV\n",
    "\n",
    "C_Values = [ 0.1, 1, 10, 100, 1e3, 5e3, 1e4, 5e4, 1e5]\n",
    "param_grid = dict( C = C_Values)\n",
    "\n",
    "SVM_Classifier_CV = svm.SVC(kernel = 'rbf', gamma = 0.0005, random_state = 1)\n",
    "PCA_CV = PCA(n_components = k)\n",
    "Face_Features_Scaled_pca = PCA_CV.fit_transform ( Face_Features_Scaled )\n",
    "\n",
    "grid = GridSearchCV(SVM_Classifier_CV, param_grid, cv=10, scoring='accuracy')\n",
    "grid.fit( Face_Features_Scaled_pca, Face_Labels )\n",
    "\n",
    "print(grid.best_params_)\n"
   ]
  },
  {
   "cell_type": "markdown",
   "metadata": {},
   "source": [
    "\n",
    "# Part G Results\n",
    "Based on the grid search cross validation run above, the best \"C\" value is 10.\n"
   ]
  },
  {
   "cell_type": "code",
   "execution_count": null,
   "metadata": {},
   "outputs": [],
   "source": []
  }
 ],
 "metadata": {
  "kernelspec": {
   "display_name": "Python 3",
   "language": "python",
   "name": "python3"
  },
  "language_info": {
   "codemirror_mode": {
    "name": "ipython",
    "version": 3
   },
   "file_extension": ".py",
   "mimetype": "text/x-python",
   "name": "python",
   "nbconvert_exporter": "python",
   "pygments_lexer": "ipython3",
   "version": "3.8.5"
  }
 },
 "nbformat": 4,
 "nbformat_minor": 4
}
